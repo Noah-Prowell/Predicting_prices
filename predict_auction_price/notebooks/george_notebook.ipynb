{
 "cells": [
  {
   "cell_type": "code",
   "execution_count": 2,
   "metadata": {},
   "outputs": [],
   "source": [
    "import numpy as np\n",
    "import pandas as pd\n",
    "from pandas.plotting import scatter_matrix\n",
    "\n",
    "from sklearn.linear_model import LinearRegression, Ridge, Lasso\n",
    "from sklearn.model_selection import train_test_split, KFold\n",
    "from sklearn.preprocessing import StandardScaler\n",
    "from sklearn.base import clone\n",
    "\n",
    "%matplotlib inline\n",
    "import matplotlib.pyplot as plt\n",
    "\n"
   ]
  },
  {
   "cell_type": "code",
   "execution_count": 16,
   "metadata": {},
   "outputs": [],
   "source": [
    "df = pd.read_csv('../../../Train.csv', low_memory=False)"
   ]
  },
  {
   "cell_type": "markdown",
   "metadata": {},
   "source": [
    "Eliminate:\n",
    "SalesID\n",
    "MachineID\n",
    "fiModelSeries\n",
    "fiModelDescriptor\n",
    "fiProductClassDesc\n",
    "ProductGroupDesc\n",
    "Enclosure_Type\n",
    "\n",
    "\n",
    "YearMade: remove wrong years\n",
    "\n"
   ]
  },
  {
   "cell_type": "code",
   "execution_count": 17,
   "metadata": {},
   "outputs": [
    {
     "data": {
      "text/plain": [
       "Index(['SalesID', 'SalePrice', 'MachineID', 'ModelID', 'datasource',\n",
       "       'auctioneerID', 'YearMade', 'MachineHoursCurrentMeter', 'UsageBand',\n",
       "       'saledate', 'fiModelDesc', 'fiBaseModel', 'fiSecondaryDesc',\n",
       "       'fiModelSeries', 'fiModelDescriptor', 'ProductSize',\n",
       "       'fiProductClassDesc', 'state', 'ProductGroup', 'ProductGroupDesc',\n",
       "       'Drive_System', 'Enclosure', 'Forks', 'Pad_Type', 'Ride_Control',\n",
       "       'Stick', 'Transmission', 'Turbocharged', 'Blade_Extension',\n",
       "       'Blade_Width', 'Enclosure_Type', 'Engine_Horsepower', 'Hydraulics',\n",
       "       'Pushblock', 'Ripper', 'Scarifier', 'Tip_Control', 'Tire_Size',\n",
       "       'Coupler', 'Coupler_System', 'Grouser_Tracks', 'Hydraulics_Flow',\n",
       "       'Track_Type', 'Undercarriage_Pad_Width', 'Stick_Length', 'Thumb',\n",
       "       'Pattern_Changer', 'Grouser_Type', 'Backhoe_Mounting', 'Blade_Type',\n",
       "       'Travel_Controls', 'Differential_Type', 'Steering_Controls'],\n",
       "      dtype='object')"
      ]
     },
     "execution_count": 17,
     "metadata": {},
     "output_type": "execute_result"
    }
   ],
   "source": [
    "df.columns"
   ]
  },
  {
   "cell_type": "code",
   "execution_count": 38,
   "metadata": {},
   "outputs": [
    {
     "data": {
      "text/plain": [
       "0           68.0\n",
       "1         4640.0\n",
       "2         2838.0\n",
       "3         3486.0\n",
       "4          722.0\n",
       "           ...  \n",
       "401120       NaN\n",
       "401121       NaN\n",
       "401122       NaN\n",
       "401123       NaN\n",
       "401124       NaN\n",
       "Name: MachineHoursCurrentMeter, Length: 401125, dtype: float64"
      ]
     },
     "execution_count": 38,
     "metadata": {},
     "output_type": "execute_result"
    }
   ],
   "source": [
    "df['MachineHoursCurrentMeter']"
   ]
  },
  {
   "cell_type": "code",
   "execution_count": 37,
   "metadata": {},
   "outputs": [
    {
     "data": {
      "text/plain": [
       "15153"
      ]
     },
     "execution_count": 37,
     "metadata": {},
     "output_type": "execute_result"
    }
   ],
   "source": [
    "len(df['MachineHoursCurrentMeter'].unique())"
   ]
  },
  {
   "cell_type": "code",
   "execution_count": 25,
   "metadata": {},
   "outputs": [
    {
     "data": {
      "text/html": [
       "<div>\n",
       "<style scoped>\n",
       "    .dataframe tbody tr th:only-of-type {\n",
       "        vertical-align: middle;\n",
       "    }\n",
       "\n",
       "    .dataframe tbody tr th {\n",
       "        vertical-align: top;\n",
       "    }\n",
       "\n",
       "    .dataframe thead th {\n",
       "        text-align: right;\n",
       "    }\n",
       "</style>\n",
       "<table border=\"1\" class=\"dataframe\">\n",
       "  <thead>\n",
       "    <tr style=\"text-align: right;\">\n",
       "      <th></th>\n",
       "      <th>SalesID</th>\n",
       "      <th>SalePrice</th>\n",
       "      <th>MachineID</th>\n",
       "      <th>ModelID</th>\n",
       "      <th>datasource</th>\n",
       "      <th>auctioneerID</th>\n",
       "      <th>YearMade</th>\n",
       "      <th>MachineHoursCurrentMeter</th>\n",
       "    </tr>\n",
       "  </thead>\n",
       "  <tbody>\n",
       "    <tr>\n",
       "      <th>count</th>\n",
       "      <td>4.011250e+05</td>\n",
       "      <td>401125.000000</td>\n",
       "      <td>4.011250e+05</td>\n",
       "      <td>401125.000000</td>\n",
       "      <td>401125.000000</td>\n",
       "      <td>380989.000000</td>\n",
       "      <td>401125.000000</td>\n",
       "      <td>1.427650e+05</td>\n",
       "    </tr>\n",
       "    <tr>\n",
       "      <th>mean</th>\n",
       "      <td>1.919713e+06</td>\n",
       "      <td>31099.712848</td>\n",
       "      <td>1.217903e+06</td>\n",
       "      <td>6889.702980</td>\n",
       "      <td>134.665810</td>\n",
       "      <td>6.556040</td>\n",
       "      <td>1899.156901</td>\n",
       "      <td>3.457955e+03</td>\n",
       "    </tr>\n",
       "    <tr>\n",
       "      <th>std</th>\n",
       "      <td>9.090215e+05</td>\n",
       "      <td>23036.898502</td>\n",
       "      <td>4.409920e+05</td>\n",
       "      <td>6221.777842</td>\n",
       "      <td>8.962237</td>\n",
       "      <td>16.976779</td>\n",
       "      <td>291.797469</td>\n",
       "      <td>2.759026e+04</td>\n",
       "    </tr>\n",
       "    <tr>\n",
       "      <th>min</th>\n",
       "      <td>1.139246e+06</td>\n",
       "      <td>4750.000000</td>\n",
       "      <td>0.000000e+00</td>\n",
       "      <td>28.000000</td>\n",
       "      <td>121.000000</td>\n",
       "      <td>0.000000</td>\n",
       "      <td>1000.000000</td>\n",
       "      <td>0.000000e+00</td>\n",
       "    </tr>\n",
       "    <tr>\n",
       "      <th>25%</th>\n",
       "      <td>1.418371e+06</td>\n",
       "      <td>14500.000000</td>\n",
       "      <td>1.088697e+06</td>\n",
       "      <td>3259.000000</td>\n",
       "      <td>132.000000</td>\n",
       "      <td>1.000000</td>\n",
       "      <td>1985.000000</td>\n",
       "      <td>0.000000e+00</td>\n",
       "    </tr>\n",
       "    <tr>\n",
       "      <th>50%</th>\n",
       "      <td>1.639422e+06</td>\n",
       "      <td>24000.000000</td>\n",
       "      <td>1.279490e+06</td>\n",
       "      <td>4604.000000</td>\n",
       "      <td>132.000000</td>\n",
       "      <td>2.000000</td>\n",
       "      <td>1995.000000</td>\n",
       "      <td>0.000000e+00</td>\n",
       "    </tr>\n",
       "    <tr>\n",
       "      <th>75%</th>\n",
       "      <td>2.242707e+06</td>\n",
       "      <td>40000.000000</td>\n",
       "      <td>1.468067e+06</td>\n",
       "      <td>8724.000000</td>\n",
       "      <td>136.000000</td>\n",
       "      <td>4.000000</td>\n",
       "      <td>2000.000000</td>\n",
       "      <td>3.025000e+03</td>\n",
       "    </tr>\n",
       "    <tr>\n",
       "      <th>max</th>\n",
       "      <td>6.333342e+06</td>\n",
       "      <td>142000.000000</td>\n",
       "      <td>2.486330e+06</td>\n",
       "      <td>37198.000000</td>\n",
       "      <td>172.000000</td>\n",
       "      <td>99.000000</td>\n",
       "      <td>2013.000000</td>\n",
       "      <td>2.483300e+06</td>\n",
       "    </tr>\n",
       "  </tbody>\n",
       "</table>\n",
       "</div>"
      ],
      "text/plain": [
       "            SalesID      SalePrice     MachineID        ModelID  \\\n",
       "count  4.011250e+05  401125.000000  4.011250e+05  401125.000000   \n",
       "mean   1.919713e+06   31099.712848  1.217903e+06    6889.702980   \n",
       "std    9.090215e+05   23036.898502  4.409920e+05    6221.777842   \n",
       "min    1.139246e+06    4750.000000  0.000000e+00      28.000000   \n",
       "25%    1.418371e+06   14500.000000  1.088697e+06    3259.000000   \n",
       "50%    1.639422e+06   24000.000000  1.279490e+06    4604.000000   \n",
       "75%    2.242707e+06   40000.000000  1.468067e+06    8724.000000   \n",
       "max    6.333342e+06  142000.000000  2.486330e+06   37198.000000   \n",
       "\n",
       "          datasource   auctioneerID       YearMade  MachineHoursCurrentMeter  \n",
       "count  401125.000000  380989.000000  401125.000000              1.427650e+05  \n",
       "mean      134.665810       6.556040    1899.156901              3.457955e+03  \n",
       "std         8.962237      16.976779     291.797469              2.759026e+04  \n",
       "min       121.000000       0.000000    1000.000000              0.000000e+00  \n",
       "25%       132.000000       1.000000    1985.000000              0.000000e+00  \n",
       "50%       132.000000       2.000000    1995.000000              0.000000e+00  \n",
       "75%       136.000000       4.000000    2000.000000              3.025000e+03  \n",
       "max       172.000000      99.000000    2013.000000              2.483300e+06  "
      ]
     },
     "execution_count": 25,
     "metadata": {},
     "output_type": "execute_result"
    }
   ],
   "source": [
    "df.describe()"
   ]
  },
  {
   "cell_type": "code",
   "execution_count": 26,
   "metadata": {},
   "outputs": [
    {
     "name": "stdout",
     "output_type": "stream",
     "text": [
      "<class 'pandas.core.frame.DataFrame'>\n",
      "RangeIndex: 401125 entries, 0 to 401124\n",
      "Data columns (total 53 columns):\n",
      " #   Column                    Non-Null Count   Dtype  \n",
      "---  ------                    --------------   -----  \n",
      " 0   SalesID                   401125 non-null  int64  \n",
      " 1   SalePrice                 401125 non-null  int64  \n",
      " 2   MachineID                 401125 non-null  int64  \n",
      " 3   ModelID                   401125 non-null  int64  \n",
      " 4   datasource                401125 non-null  int64  \n",
      " 5   auctioneerID              380989 non-null  float64\n",
      " 6   YearMade                  401125 non-null  int64  \n",
      " 7   MachineHoursCurrentMeter  142765 non-null  float64\n",
      " 8   UsageBand                 69639 non-null   object \n",
      " 9   saledate                  401125 non-null  object \n",
      " 10  fiModelDesc               401125 non-null  object \n",
      " 11  fiBaseModel               401125 non-null  object \n",
      " 12  fiSecondaryDesc           263934 non-null  object \n",
      " 13  fiModelSeries             56908 non-null   object \n",
      " 14  fiModelDescriptor         71919 non-null   object \n",
      " 15  ProductSize               190350 non-null  object \n",
      " 16  fiProductClassDesc        401125 non-null  object \n",
      " 17  state                     401125 non-null  object \n",
      " 18  ProductGroup              401125 non-null  object \n",
      " 19  ProductGroupDesc          401125 non-null  object \n",
      " 20  Drive_System              104361 non-null  object \n",
      " 21  Enclosure                 400800 non-null  object \n",
      " 22  Forks                     192077 non-null  object \n",
      " 23  Pad_Type                  79134 non-null   object \n",
      " 24  Ride_Control              148606 non-null  object \n",
      " 25  Stick                     79134 non-null   object \n",
      " 26  Transmission              183230 non-null  object \n",
      " 27  Turbocharged              79134 non-null   object \n",
      " 28  Blade_Extension           25219 non-null   object \n",
      " 29  Blade_Width               25219 non-null   object \n",
      " 30  Enclosure_Type            25219 non-null   object \n",
      " 31  Engine_Horsepower         25219 non-null   object \n",
      " 32  Hydraulics                320570 non-null  object \n",
      " 33  Pushblock                 25219 non-null   object \n",
      " 34  Ripper                    104137 non-null  object \n",
      " 35  Scarifier                 25230 non-null   object \n",
      " 36  Tip_Control               25219 non-null   object \n",
      " 37  Tire_Size                 94718 non-null   object \n",
      " 38  Coupler                   213952 non-null  object \n",
      " 39  Coupler_System            43458 non-null   object \n",
      " 40  Grouser_Tracks            43362 non-null   object \n",
      " 41  Hydraulics_Flow           43362 non-null   object \n",
      " 42  Track_Type                99153 non-null   object \n",
      " 43  Undercarriage_Pad_Width   99872 non-null   object \n",
      " 44  Stick_Length              99218 non-null   object \n",
      " 45  Thumb                     99288 non-null   object \n",
      " 46  Pattern_Changer           99218 non-null   object \n",
      " 47  Grouser_Type              99153 non-null   object \n",
      " 48  Backhoe_Mounting          78672 non-null   object \n",
      " 49  Blade_Type                79833 non-null   object \n",
      " 50  Travel_Controls           79834 non-null   object \n",
      " 51  Differential_Type         69411 non-null   object \n",
      " 52  Steering_Controls         69369 non-null   object \n",
      "dtypes: float64(2), int64(6), object(45)\n",
      "memory usage: 162.2+ MB\n"
     ]
    }
   ],
   "source": [
    "df.info()"
   ]
  },
  {
   "cell_type": "code",
   "execution_count": 48,
   "metadata": {},
   "outputs": [
    {
     "data": {
      "text/plain": [
       "array([[<AxesSubplot:title={'center':'auctioneerID'}>]], dtype=object)"
      ]
     },
     "execution_count": 48,
     "metadata": {},
     "output_type": "execute_result"
    },
    {
     "data": {
      "image/png": "[encoded data removed]",
      "text/plain": [
       "<Figure size 432x288 with 1 Axes>"
      ]
     },
     "metadata": {
      "needs_background": "light"
     },
     "output_type": "display_data"
    }
   ],
   "source": [
    "df.hist(column = ['Engine_Horsepower'], bins=200)"
   ]
  },
  {
   "cell_type": "code",
   "execution_count": 61,
   "metadata": {},
   "outputs": [
    {
     "data": {
      "text/plain": [
       "<AxesSubplot:>"
      ]
     },
     "execution_count": 61,
     "metadata": {},
     "output_type": "execute_result"
    },
    {
     "data": {
      "image/png": "[encoded data removed]",
      "text/plain": [
       "<Figure size 432x288 with 1 Axes>"
      ]
     },
     "metadata": {
      "needs_background": "light"
     },
     "output_type": "display_data"
    },
    {
     "name": "stdout",
     "output_type": "stream",
     "text": [
      "Executing shutdown due to inactivity...\n"
     ]
    },
    {
     "name": "stderr",
     "output_type": "stream",
     "text": [
      "2020-11-06 11:36:38,609 - INFO     - Executing shutdown due to inactivity...\n"
     ]
    }
   ],
   "source": [
    "df['Engine_Horsepower'].hist()"
   ]
  },
  {
   "cell_type": "code",
   "execution_count": 74,
   "metadata": {},
   "outputs": [],
   "source": [
    "df_usage = df[df.UsageBand.notnull()]"
   ]
  },
  {
   "cell_type": "code",
   "execution_count": 78,
   "metadata": {},
   "outputs": [
    {
     "data": {
      "text/plain": [
       "Index(['SalesID', 'SalePrice', 'MachineID', 'ModelID', 'datasource',\n",
       "       'auctioneerID', 'YearMade', 'MachineHoursCurrentMeter', 'UsageBand',\n",
       "       'saledate', 'fiModelDesc', 'fiBaseModel', 'fiSecondaryDesc',\n",
       "       'fiModelSeries', 'fiModelDescriptor', 'ProductSize',\n",
       "       'fiProductClassDesc', 'state', 'ProductGroup', 'ProductGroupDesc',\n",
       "       'Drive_System', 'Enclosure', 'Forks', 'Pad_Type', 'Ride_Control',\n",
       "       'Stick', 'Transmission', 'Turbocharged', 'Blade_Extension',\n",
       "       'Blade_Width', 'Enclosure_Type', 'Engine_Horsepower', 'Hydraulics',\n",
       "       'Pushblock', 'Ripper', 'Scarifier', 'Tip_Control', 'Tire_Size',\n",
       "       'Coupler', 'Coupler_System', 'Grouser_Tracks', 'Hydraulics_Flow',\n",
       "       'Track_Type', 'Undercarriage_Pad_Width', 'Stick_Length', 'Thumb',\n",
       "       'Pattern_Changer', 'Grouser_Type', 'Backhoe_Mounting', 'Blade_Type',\n",
       "       'Travel_Controls', 'Differential_Type', 'Steering_Controls'],\n",
       "      dtype='object')"
      ]
     },
     "execution_count": 78,
     "metadata": {},
     "output_type": "execute_result"
    }
   ],
   "source": [
    "df_usage.columns"
   ]
  },
  {
   "cell_type": "code",
   "execution_count": null,
   "metadata": {},
   "outputs": [],
   "source": []
  },
  {
   "cell_type": "code",
   "execution_count": null,
   "metadata": {},
   "outputs": [],
   "source": [
    "def formatting(df):\n",
    "    '''Format Dataframe for Price Prediction Model\n",
    "    \n",
    "    \n",
    "    '''\n",
    "    df_usage = df[df.UsageBand.notnull()]\n",
    "    \n",
    "    return formatted_df"
   ]
  },
  {
   "cell_type": "code",
   "execution_count": 76,
   "metadata": {},
   "outputs": [
    {
     "name": "stdout",
     "output_type": "stream",
     "text": [
      "<class 'pandas.core.frame.DataFrame'>\n",
      "Int64Index: 69639 entries, 0 to 401055\n",
      "Data columns (total 53 columns):\n",
      " #   Column                    Non-Null Count  Dtype  \n",
      "---  ------                    --------------  -----  \n",
      " 0   SalesID                   69639 non-null  int64  \n",
      " 1   SalePrice                 69639 non-null  int64  \n",
      " 2   MachineID                 69639 non-null  int64  \n",
      " 3   ModelID                   69639 non-null  int64  \n",
      " 4   datasource                69639 non-null  int64  \n",
      " 5   auctioneerID              64946 non-null  float64\n",
      " 6   YearMade                  69639 non-null  int64  \n",
      " 7   MachineHoursCurrentMeter  69639 non-null  float64\n",
      " 8   UsageBand                 69639 non-null  object \n",
      " 9   saledate                  69639 non-null  object \n",
      " 10  fiModelDesc               69639 non-null  object \n",
      " 11  fiBaseModel               69639 non-null  object \n",
      " 12  fiSecondaryDesc           47886 non-null  object \n",
      " 13  fiModelSeries             10964 non-null  object \n",
      " 14  fiModelDescriptor         19191 non-null  object \n",
      " 15  ProductSize               33373 non-null  object \n",
      " 16  fiProductClassDesc        69639 non-null  object \n",
      " 17  state                     69639 non-null  object \n",
      " 18  ProductGroup              69639 non-null  object \n",
      " 19  ProductGroupDesc          69639 non-null  object \n",
      " 20  Drive_System              15217 non-null  object \n",
      " 21  Enclosure                 69608 non-null  object \n",
      " 22  Forks                     33950 non-null  object \n",
      " 23  Pad_Type                  12450 non-null  object \n",
      " 24  Ride_Control              23200 non-null  object \n",
      " 25  Stick                     12450 non-null  object \n",
      " 26  Transmission              27892 non-null  object \n",
      " 27  Turbocharged              12450 non-null  object \n",
      " 28  Blade_Extension           2764 non-null   object \n",
      " 29  Blade_Width               2764 non-null   object \n",
      " 30  Enclosure_Type            2764 non-null   object \n",
      " 31  Engine_Horsepower         2764 non-null   object \n",
      " 32  Hydraulics                56975 non-null  object \n",
      " 33  Pushblock                 2764 non-null   object \n",
      " 34  Ripper                    15412 non-null  object \n",
      " 35  Scarifier                 2764 non-null   object \n",
      " 36  Tip_Control               2764 non-null   object \n",
      " 37  Tire_Size                 13501 non-null  object \n",
      " 38  Coupler                   41307 non-null  object \n",
      " 39  Coupler_System            10756 non-null  object \n",
      " 40  Grouser_Tracks            10737 non-null  object \n",
      " 41  Hydraulics_Flow           10737 non-null  object \n",
      " 42  Track_Type                19674 non-null  object \n",
      " 43  Undercarriage_Pad_Width   19759 non-null  object \n",
      " 44  Stick_Length              19677 non-null  object \n",
      " 45  Thumb                     19696 non-null  object \n",
      " 46  Pattern_Changer           19677 non-null  object \n",
      " 47  Grouser_Type              19674 non-null  object \n",
      " 48  Backhoe_Mounting          12623 non-null  object \n",
      " 49  Blade_Type                12737 non-null  object \n",
      " 50  Travel_Controls           12740 non-null  object \n",
      " 51  Differential_Type         10735 non-null  object \n",
      " 52  Steering_Controls         10732 non-null  object \n",
      "dtypes: float64(2), int64(6), object(45)\n",
      "memory usage: 28.7+ MB\n"
     ]
    }
   ],
   "source": [
    "df_usage.info()"
   ]
  },
  {
   "cell_type": "markdown",
   "metadata": {},
   "source": [
    "Cols to make into Categories:\n",
    "Usage Band: ['Low', 'High', 'Medium']\n",
    "datasource: [121, 132, 136, 149, 172]"
   ]
  },
  {
   "cell_type": "code",
   "execution_count": 81,
   "metadata": {},
   "outputs": [
    {
     "data": {
      "text/plain": [
       "array([121, 132, 136, 149, 172])"
      ]
     },
     "execution_count": 81,
     "metadata": {},
     "output_type": "execute_result"
    }
   ],
   "source": [
    "df_usage['datasource'].unique()"
   ]
  },
  {
   "cell_type": "code",
   "execution_count": null,
   "metadata": {},
   "outputs": [],
   "source": []
  },
  {
   "cell_type": "code",
   "execution_count": 129,
   "metadata": {},
   "outputs": [],
   "source": [
    "def drop_column(df, column_name):\n",
    "    df = df.drop(columns = column_name)\n",
    "    return df\n",
    "    \n",
    "\n",
    "def formatting(df):\n",
    "    '''Format Dataframe for Price Prediction Model\n",
    "    \n",
    "    \n",
    "    '''\n",
    "    df_usage = df[df.UsageBand.notnull()]\n",
    "    drop_list = ['ProductGroupDesc', 'Enclosure_Type', 'Coupler_System', 'SalesID', 'auctioneerID', 'Engine_Horsepower', 'MachineID', 'ModelID',\n",
    "                'fiModelDesc', 'fiBaseModel','fiSecondaryDesc','fiModelSeries','fiModelDescriptor', 'fiProductClassDesc']\n",
    "    dummies = ['UsageBand', 'datasource',\n",
    "       'ProductSize',\n",
    "       'state', 'ProductGroup', \n",
    "       'Drive_System', 'Enclosure', 'Forks', 'Pad_Type', 'Ride_Control',\n",
    "       'Stick', 'Transmission', 'Turbocharged', 'Blade_Extension',\n",
    "       'Blade_Width', 'Hydraulics',\n",
    "       'Pushblock', 'Ripper', 'Scarifier', 'Tip_Control', 'Tire_Size',\n",
    "       'Coupler', 'Grouser_Tracks', 'Hydraulics_Flow',\n",
    "       'Track_Type', 'Undercarriage_Pad_Width', 'Stick_Length', 'Thumb',\n",
    "       'Pattern_Changer', 'Grouser_Type', 'Backhoe_Mounting', 'Blade_Type',\n",
    "       'Travel_Controls', 'Differential_Type', 'Steering_Controls']\n",
    "    \n",
    "    df_usage = pd.get_dummies(df_usage, columns = dummies)\n",
    "    \n",
    "    for col in drop_list:\n",
    "        df_usage = drop_column(df_usage, col)\n",
    "\n",
    "    df_usage['saledate'] = pd.to_datetime(df_usage['saledate'])\n",
    "    df_usage['saledate'] = df_usage['saledate'].dt.year\n",
    "\n",
    "    df_usage['age_at_sale'] = df_usage['saledate']- df_usage['YearMade']\n",
    "    df_usage = df_usage[df_usage['age_at_sale'] <200]\n",
    "\n",
    "    y = df_usage['SalePrice']\n",
    "    X = df_usage.loc[:, df_usage.columns != 'SalePrice']\n",
    "\n",
    "    return X,y"
   ]
  },
  {
   "cell_type": "code",
   "execution_count": 190,
   "metadata": {},
   "outputs": [],
   "source": [
    "X,y = formatting(df)"
   ]
  },
  {
   "cell_type": "code",
   "execution_count": 183,
   "metadata": {},
   "outputs": [
    {
     "data": {
      "text/plain": [
       "'/home/george/Desktop/CaseStudy/regression-case-study/predict_auction_price/notebooks'"
      ]
     },
     "execution_count": 183,
     "metadata": {},
     "output_type": "execute_result"
    }
   ],
   "source": [
    "pwd"
   ]
  },
  {
   "cell_type": "code",
   "execution_count": 204,
   "metadata": {},
   "outputs": [],
   "source": [
    "from sklearn.model_selection import train_test_split, KFold\n",
    "from sklearn.metrics import mean_squared_error\n",
    "from sklearn.linear_model import Ridge, Lasso, LinearRegression\n",
    "\n",
    "from sklearn.preprocessing import StandardScaler\n",
    "from utils import XyScaler"
   ]
  },
  {
   "cell_type": "code",
   "execution_count": 205,
   "metadata": {},
   "outputs": [],
   "source": [
    "X_train, X_test, y_train, y_test = train_test_split(X, y, test_size = 0.2)"
   ]
  },
  {
   "cell_type": "code",
   "execution_count": 206,
   "metadata": {},
   "outputs": [
    {
     "data": {
      "text/plain": [
       "Ridge(alpha=0.5)"
      ]
     },
     "execution_count": 206,
     "metadata": {},
     "output_type": "execute_result"
    }
   ],
   "source": [
    "ridge = Ridge(alpha = 0.5)\n",
    "ridge.fit(X_train, y_train)"
   ]
  },
  {
   "cell_type": "code",
   "execution_count": 207,
   "metadata": {},
   "outputs": [
    {
     "name": "stdout",
     "output_type": "stream",
     "text": [
      "173400473.3859678\n"
     ]
    }
   ],
   "source": [
    "y_hat = ridge.predict(X_test)\n",
    "\n",
    "print(mean_squared_error(y_test, y_hat))"
   ]
  },
  {
   "cell_type": "code",
   "execution_count": 211,
   "metadata": {},
   "outputs": [
    {
     "name": "stdout",
     "output_type": "stream",
     "text": [
      "[0.25540408 0.25536784 0.25259163 0.25428734 0.24687583 0.25149417\n",
      " 0.26433313 0.2481817  0.25603559 0.2526097 ] [0.22834262 0.23843784 0.27119625 0.26706098 0.29575083 0.25469069\n",
      " 0.32720184 0.3073593  0.30391027 0.24874067]\n"
     ]
    }
   ],
   "source": [
    "n_folds = 10\n",
    "kf = KFold(n_splits=n_folds)\n",
    "\n",
    "test_cv_errors, train_cv_errors = np.zeros(n_folds), np.zeros(n_folds)\n",
    "\n",
    "X = np.array(X)\n",
    "y = np.array(y)\n",
    "\n",
    "for idx, (train, test) in enumerate(kf.split(X_train)):\n",
    "    # Split into train and test\n",
    "    X_cv_train, y_cv_train = X[train], y[train]\n",
    "    X_cv_test, y_cv_test = X[test], y[test]\n",
    "    \n",
    "    # Standardize data.\n",
    "    standardizer = XyScaler()\n",
    "    standardizer.fit(X_cv_train, y_cv_train)\n",
    "    X_cv_train_std, y_cv_train_std = standardizer.transform(X_cv_train, y_cv_train)\n",
    "    X_cv_test_std, y_cv_test_std = standardizer.transform(X_cv_test, y_cv_test)\n",
    "    \n",
    "    # Fit estimator\n",
    "    model = Ridge(alpha = 0.5)\n",
    "    model.fit(X_cv_train_std, y_cv_train_std)\n",
    "    \n",
    "    # Measure performance\n",
    "    y_hat_train = model.predict(X_cv_train_std)\n",
    "    y_hat_test = model.predict(X_cv_test_std)\n",
    "    \n",
    "    # Calclate the error metrics\n",
    "    train_cv_errors[idx] = mean_squared_error(y_cv_train_std, y_hat_train)\n",
    "    test_cv_errors[idx] = mean_squared_error(y_cv_test_std, y_hat_test)\n",
    "    \n",
    "print(train_cv_errors, test_cv_errors)"
   ]
  },
  {
   "cell_type": "code",
   "execution_count": null,
   "metadata": {},
   "outputs": [],
   "source": []
  },
  {
   "cell_type": "code",
   "execution_count": null,
   "metadata": {},
   "outputs": [],
   "source": []
  }
 ],
 "metadata": {
  "kernelspec": {
   "display_name": "Python 3",
   "language": "python",
   "name": "python3"
  },
  "language_info": {
   "codemirror_mode": {
    "name": "ipython",
    "version": 3
   },
   "file_extension": ".py",
   "mimetype": "text/x-python",
   "name": "python",
   "nbconvert_exporter": "python",
   "pygments_lexer": "ipython3",
   "version": "3.7.7"
  }
 },
 "nbformat": 4,
 "nbformat_minor": 4
}
