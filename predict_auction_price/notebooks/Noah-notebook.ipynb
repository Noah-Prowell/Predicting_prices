{
 "cells": [
  {
   "cell_type": "code",
   "execution_count": 1,
   "metadata": {},
   "outputs": [],
   "source": [
    "import pandas as pd\n",
    "import numpy as np\n",
    "import matplotlib.pyplot as plt"
   ]
  },
  {
   "cell_type": "code",
   "execution_count": 3,
   "metadata": {
    "scrolled": true
   },
   "outputs": [
    {
     "name": "stderr",
     "output_type": "stream",
     "text": [
      "/home/noahprowell/anaconda3/lib/python3.8/site-packages/IPython/core/interactiveshell.py:3071: DtypeWarning: Columns (13,39,40,41) have mixed types.Specify dtype option on import or set low_memory=False.\n",
      "  has_raised = await self.run_ast_nodes(code_ast.body, cell_name,\n"
     ]
    }
   ],
   "source": [
    "df = pd.read_csv('/home/noahprowell/galvanize/case-studies/regression-case-study/predict_auction_price/data/Train.csv')"
   ]
  },
  {
   "cell_type": "code",
   "execution_count": 4,
   "metadata": {
    "scrolled": true
   },
   "outputs": [
    {
     "data": {
      "text/html": [
       "<div>\n",
       "<style scoped>\n",
       "    .dataframe tbody tr th:only-of-type {\n",
       "        vertical-align: middle;\n",
       "    }\n",
       "\n",
       "    .dataframe tbody tr th {\n",
       "        vertical-align: top;\n",
       "    }\n",
       "\n",
       "    .dataframe thead th {\n",
       "        text-align: right;\n",
       "    }\n",
       "</style>\n",
       "<table border=\"1\" class=\"dataframe\">\n",
       "  <thead>\n",
       "    <tr style=\"text-align: right;\">\n",
       "      <th></th>\n",
       "      <th>SalesID</th>\n",
       "      <th>SalePrice</th>\n",
       "      <th>MachineID</th>\n",
       "      <th>ModelID</th>\n",
       "      <th>datasource</th>\n",
       "      <th>auctioneerID</th>\n",
       "      <th>YearMade</th>\n",
       "      <th>MachineHoursCurrentMeter</th>\n",
       "      <th>UsageBand</th>\n",
       "      <th>saledate</th>\n",
       "      <th>...</th>\n",
       "      <th>Undercarriage_Pad_Width</th>\n",
       "      <th>Stick_Length</th>\n",
       "      <th>Thumb</th>\n",
       "      <th>Pattern_Changer</th>\n",
       "      <th>Grouser_Type</th>\n",
       "      <th>Backhoe_Mounting</th>\n",
       "      <th>Blade_Type</th>\n",
       "      <th>Travel_Controls</th>\n",
       "      <th>Differential_Type</th>\n",
       "      <th>Steering_Controls</th>\n",
       "    </tr>\n",
       "  </thead>\n",
       "  <tbody>\n",
       "    <tr>\n",
       "      <th>0</th>\n",
       "      <td>1139246</td>\n",
       "      <td>66000</td>\n",
       "      <td>999089</td>\n",
       "      <td>3157</td>\n",
       "      <td>121</td>\n",
       "      <td>3.0</td>\n",
       "      <td>2004</td>\n",
       "      <td>68.0</td>\n",
       "      <td>Low</td>\n",
       "      <td>11/16/2006 0:00</td>\n",
       "      <td>...</td>\n",
       "      <td>NaN</td>\n",
       "      <td>NaN</td>\n",
       "      <td>NaN</td>\n",
       "      <td>NaN</td>\n",
       "      <td>NaN</td>\n",
       "      <td>NaN</td>\n",
       "      <td>NaN</td>\n",
       "      <td>NaN</td>\n",
       "      <td>Standard</td>\n",
       "      <td>Conventional</td>\n",
       "    </tr>\n",
       "    <tr>\n",
       "      <th>1</th>\n",
       "      <td>1139248</td>\n",
       "      <td>57000</td>\n",
       "      <td>117657</td>\n",
       "      <td>77</td>\n",
       "      <td>121</td>\n",
       "      <td>3.0</td>\n",
       "      <td>1996</td>\n",
       "      <td>4640.0</td>\n",
       "      <td>Low</td>\n",
       "      <td>3/26/2004 0:00</td>\n",
       "      <td>...</td>\n",
       "      <td>NaN</td>\n",
       "      <td>NaN</td>\n",
       "      <td>NaN</td>\n",
       "      <td>NaN</td>\n",
       "      <td>NaN</td>\n",
       "      <td>NaN</td>\n",
       "      <td>NaN</td>\n",
       "      <td>NaN</td>\n",
       "      <td>Standard</td>\n",
       "      <td>Conventional</td>\n",
       "    </tr>\n",
       "    <tr>\n",
       "      <th>2</th>\n",
       "      <td>1139249</td>\n",
       "      <td>10000</td>\n",
       "      <td>434808</td>\n",
       "      <td>7009</td>\n",
       "      <td>121</td>\n",
       "      <td>3.0</td>\n",
       "      <td>2001</td>\n",
       "      <td>2838.0</td>\n",
       "      <td>High</td>\n",
       "      <td>2/26/2004 0:00</td>\n",
       "      <td>...</td>\n",
       "      <td>NaN</td>\n",
       "      <td>NaN</td>\n",
       "      <td>NaN</td>\n",
       "      <td>NaN</td>\n",
       "      <td>NaN</td>\n",
       "      <td>NaN</td>\n",
       "      <td>NaN</td>\n",
       "      <td>NaN</td>\n",
       "      <td>NaN</td>\n",
       "      <td>NaN</td>\n",
       "    </tr>\n",
       "    <tr>\n",
       "      <th>3</th>\n",
       "      <td>1139251</td>\n",
       "      <td>38500</td>\n",
       "      <td>1026470</td>\n",
       "      <td>332</td>\n",
       "      <td>121</td>\n",
       "      <td>3.0</td>\n",
       "      <td>2001</td>\n",
       "      <td>3486.0</td>\n",
       "      <td>High</td>\n",
       "      <td>5/19/2011 0:00</td>\n",
       "      <td>...</td>\n",
       "      <td>NaN</td>\n",
       "      <td>NaN</td>\n",
       "      <td>NaN</td>\n",
       "      <td>NaN</td>\n",
       "      <td>NaN</td>\n",
       "      <td>NaN</td>\n",
       "      <td>NaN</td>\n",
       "      <td>NaN</td>\n",
       "      <td>NaN</td>\n",
       "      <td>NaN</td>\n",
       "    </tr>\n",
       "    <tr>\n",
       "      <th>4</th>\n",
       "      <td>1139253</td>\n",
       "      <td>11000</td>\n",
       "      <td>1057373</td>\n",
       "      <td>17311</td>\n",
       "      <td>121</td>\n",
       "      <td>3.0</td>\n",
       "      <td>2007</td>\n",
       "      <td>722.0</td>\n",
       "      <td>Medium</td>\n",
       "      <td>7/23/2009 0:00</td>\n",
       "      <td>...</td>\n",
       "      <td>NaN</td>\n",
       "      <td>NaN</td>\n",
       "      <td>NaN</td>\n",
       "      <td>NaN</td>\n",
       "      <td>NaN</td>\n",
       "      <td>NaN</td>\n",
       "      <td>NaN</td>\n",
       "      <td>NaN</td>\n",
       "      <td>NaN</td>\n",
       "      <td>NaN</td>\n",
       "    </tr>\n",
       "  </tbody>\n",
       "</table>\n",
       "<p>5 rows × 53 columns</p>\n",
       "</div>"
      ],
      "text/plain": [
       "   SalesID  SalePrice  MachineID  ModelID  datasource  auctioneerID  YearMade  \\\n",
       "0  1139246      66000     999089     3157         121           3.0      2004   \n",
       "1  1139248      57000     117657       77         121           3.0      1996   \n",
       "2  1139249      10000     434808     7009         121           3.0      2001   \n",
       "3  1139251      38500    1026470      332         121           3.0      2001   \n",
       "4  1139253      11000    1057373    17311         121           3.0      2007   \n",
       "\n",
       "   MachineHoursCurrentMeter UsageBand         saledate  ...  \\\n",
       "0                      68.0       Low  11/16/2006 0:00  ...   \n",
       "1                    4640.0       Low   3/26/2004 0:00  ...   \n",
       "2                    2838.0      High   2/26/2004 0:00  ...   \n",
       "3                    3486.0      High   5/19/2011 0:00  ...   \n",
       "4                     722.0    Medium   7/23/2009 0:00  ...   \n",
       "\n",
       "  Undercarriage_Pad_Width Stick_Length Thumb Pattern_Changer Grouser_Type  \\\n",
       "0                     NaN          NaN   NaN             NaN          NaN   \n",
       "1                     NaN          NaN   NaN             NaN          NaN   \n",
       "2                     NaN          NaN   NaN             NaN          NaN   \n",
       "3                     NaN          NaN   NaN             NaN          NaN   \n",
       "4                     NaN          NaN   NaN             NaN          NaN   \n",
       "\n",
       "  Backhoe_Mounting Blade_Type Travel_Controls Differential_Type  \\\n",
       "0              NaN        NaN             NaN          Standard   \n",
       "1              NaN        NaN             NaN          Standard   \n",
       "2              NaN        NaN             NaN               NaN   \n",
       "3              NaN        NaN             NaN               NaN   \n",
       "4              NaN        NaN             NaN               NaN   \n",
       "\n",
       "  Steering_Controls  \n",
       "0      Conventional  \n",
       "1      Conventional  \n",
       "2               NaN  \n",
       "3               NaN  \n",
       "4               NaN  \n",
       "\n",
       "[5 rows x 53 columns]"
      ]
     },
     "execution_count": 4,
     "metadata": {},
     "output_type": "execute_result"
    }
   ],
   "source": [
    "df.head()"
   ]
  },
  {
   "cell_type": "code",
   "execution_count": 5,
   "metadata": {},
   "outputs": [
    {
     "data": {
      "text/html": [
       "<div>\n",
       "<style scoped>\n",
       "    .dataframe tbody tr th:only-of-type {\n",
       "        vertical-align: middle;\n",
       "    }\n",
       "\n",
       "    .dataframe tbody tr th {\n",
       "        vertical-align: top;\n",
       "    }\n",
       "\n",
       "    .dataframe thead th {\n",
       "        text-align: right;\n",
       "    }\n",
       "</style>\n",
       "<table border=\"1\" class=\"dataframe\">\n",
       "  <thead>\n",
       "    <tr style=\"text-align: right;\">\n",
       "      <th></th>\n",
       "      <th>SalesID</th>\n",
       "      <th>SalePrice</th>\n",
       "      <th>MachineID</th>\n",
       "      <th>ModelID</th>\n",
       "      <th>datasource</th>\n",
       "      <th>auctioneerID</th>\n",
       "      <th>YearMade</th>\n",
       "      <th>MachineHoursCurrentMeter</th>\n",
       "    </tr>\n",
       "  </thead>\n",
       "  <tbody>\n",
       "    <tr>\n",
       "      <th>count</th>\n",
       "      <td>4.011250e+05</td>\n",
       "      <td>401125.000000</td>\n",
       "      <td>4.011250e+05</td>\n",
       "      <td>401125.000000</td>\n",
       "      <td>401125.000000</td>\n",
       "      <td>380989.000000</td>\n",
       "      <td>401125.000000</td>\n",
       "      <td>1.427650e+05</td>\n",
       "    </tr>\n",
       "    <tr>\n",
       "      <th>mean</th>\n",
       "      <td>1.919713e+06</td>\n",
       "      <td>31099.712848</td>\n",
       "      <td>1.217903e+06</td>\n",
       "      <td>6889.702980</td>\n",
       "      <td>134.665810</td>\n",
       "      <td>6.556040</td>\n",
       "      <td>1899.156901</td>\n",
       "      <td>3.457955e+03</td>\n",
       "    </tr>\n",
       "    <tr>\n",
       "      <th>std</th>\n",
       "      <td>9.090215e+05</td>\n",
       "      <td>23036.898502</td>\n",
       "      <td>4.409920e+05</td>\n",
       "      <td>6221.777842</td>\n",
       "      <td>8.962237</td>\n",
       "      <td>16.976779</td>\n",
       "      <td>291.797469</td>\n",
       "      <td>2.759026e+04</td>\n",
       "    </tr>\n",
       "    <tr>\n",
       "      <th>min</th>\n",
       "      <td>1.139246e+06</td>\n",
       "      <td>4750.000000</td>\n",
       "      <td>0.000000e+00</td>\n",
       "      <td>28.000000</td>\n",
       "      <td>121.000000</td>\n",
       "      <td>0.000000</td>\n",
       "      <td>1000.000000</td>\n",
       "      <td>0.000000e+00</td>\n",
       "    </tr>\n",
       "    <tr>\n",
       "      <th>25%</th>\n",
       "      <td>1.418371e+06</td>\n",
       "      <td>14500.000000</td>\n",
       "      <td>1.088697e+06</td>\n",
       "      <td>3259.000000</td>\n",
       "      <td>132.000000</td>\n",
       "      <td>1.000000</td>\n",
       "      <td>1985.000000</td>\n",
       "      <td>0.000000e+00</td>\n",
       "    </tr>\n",
       "    <tr>\n",
       "      <th>50%</th>\n",
       "      <td>1.639422e+06</td>\n",
       "      <td>24000.000000</td>\n",
       "      <td>1.279490e+06</td>\n",
       "      <td>4604.000000</td>\n",
       "      <td>132.000000</td>\n",
       "      <td>2.000000</td>\n",
       "      <td>1995.000000</td>\n",
       "      <td>0.000000e+00</td>\n",
       "    </tr>\n",
       "    <tr>\n",
       "      <th>75%</th>\n",
       "      <td>2.242707e+06</td>\n",
       "      <td>40000.000000</td>\n",
       "      <td>1.468067e+06</td>\n",
       "      <td>8724.000000</td>\n",
       "      <td>136.000000</td>\n",
       "      <td>4.000000</td>\n",
       "      <td>2000.000000</td>\n",
       "      <td>3.025000e+03</td>\n",
       "    </tr>\n",
       "    <tr>\n",
       "      <th>max</th>\n",
       "      <td>6.333342e+06</td>\n",
       "      <td>142000.000000</td>\n",
       "      <td>2.486330e+06</td>\n",
       "      <td>37198.000000</td>\n",
       "      <td>172.000000</td>\n",
       "      <td>99.000000</td>\n",
       "      <td>2013.000000</td>\n",
       "      <td>2.483300e+06</td>\n",
       "    </tr>\n",
       "  </tbody>\n",
       "</table>\n",
       "</div>"
      ],
      "text/plain": [
       "            SalesID      SalePrice     MachineID        ModelID  \\\n",
       "count  4.011250e+05  401125.000000  4.011250e+05  401125.000000   \n",
       "mean   1.919713e+06   31099.712848  1.217903e+06    6889.702980   \n",
       "std    9.090215e+05   23036.898502  4.409920e+05    6221.777842   \n",
       "min    1.139246e+06    4750.000000  0.000000e+00      28.000000   \n",
       "25%    1.418371e+06   14500.000000  1.088697e+06    3259.000000   \n",
       "50%    1.639422e+06   24000.000000  1.279490e+06    4604.000000   \n",
       "75%    2.242707e+06   40000.000000  1.468067e+06    8724.000000   \n",
       "max    6.333342e+06  142000.000000  2.486330e+06   37198.000000   \n",
       "\n",
       "          datasource   auctioneerID       YearMade  MachineHoursCurrentMeter  \n",
       "count  401125.000000  380989.000000  401125.000000              1.427650e+05  \n",
       "mean      134.665810       6.556040    1899.156901              3.457955e+03  \n",
       "std         8.962237      16.976779     291.797469              2.759026e+04  \n",
       "min       121.000000       0.000000    1000.000000              0.000000e+00  \n",
       "25%       132.000000       1.000000    1985.000000              0.000000e+00  \n",
       "50%       132.000000       2.000000    1995.000000              0.000000e+00  \n",
       "75%       136.000000       4.000000    2000.000000              3.025000e+03  \n",
       "max       172.000000      99.000000    2013.000000              2.483300e+06  "
      ]
     },
     "execution_count": 5,
     "metadata": {},
     "output_type": "execute_result"
    }
   ],
   "source": [
    "df.describe()"
   ]
  },
  {
   "cell_type": "code",
   "execution_count": 6,
   "metadata": {
    "scrolled": true
   },
   "outputs": [
    {
     "name": "stdout",
     "output_type": "stream",
     "text": [
      "<class 'pandas.core.frame.DataFrame'>\n",
      "RangeIndex: 401125 entries, 0 to 401124\n",
      "Data columns (total 53 columns):\n",
      " #   Column                    Non-Null Count   Dtype  \n",
      "---  ------                    --------------   -----  \n",
      " 0   SalesID                   401125 non-null  int64  \n",
      " 1   SalePrice                 401125 non-null  int64  \n",
      " 2   MachineID                 401125 non-null  int64  \n",
      " 3   ModelID                   401125 non-null  int64  \n",
      " 4   datasource                401125 non-null  int64  \n",
      " 5   auctioneerID              380989 non-null  float64\n",
      " 6   YearMade                  401125 non-null  int64  \n",
      " 7   MachineHoursCurrentMeter  142765 non-null  float64\n",
      " 8   UsageBand                 69639 non-null   object \n",
      " 9   saledate                  401125 non-null  object \n",
      " 10  fiModelDesc               401125 non-null  object \n",
      " 11  fiBaseModel               401125 non-null  object \n",
      " 12  fiSecondaryDesc           263934 non-null  object \n",
      " 13  fiModelSeries             56908 non-null   object \n",
      " 14  fiModelDescriptor         71919 non-null   object \n",
      " 15  ProductSize               190350 non-null  object \n",
      " 16  fiProductClassDesc        401125 non-null  object \n",
      " 17  state                     401125 non-null  object \n",
      " 18  ProductGroup              401125 non-null  object \n",
      " 19  ProductGroupDesc          401125 non-null  object \n",
      " 20  Drive_System              104361 non-null  object \n",
      " 21  Enclosure                 400800 non-null  object \n",
      " 22  Forks                     192077 non-null  object \n",
      " 23  Pad_Type                  79134 non-null   object \n",
      " 24  Ride_Control              148606 non-null  object \n",
      " 25  Stick                     79134 non-null   object \n",
      " 26  Transmission              183230 non-null  object \n",
      " 27  Turbocharged              79134 non-null   object \n",
      " 28  Blade_Extension           25219 non-null   object \n",
      " 29  Blade_Width               25219 non-null   object \n",
      " 30  Enclosure_Type            25219 non-null   object \n",
      " 31  Engine_Horsepower         25219 non-null   object \n",
      " 32  Hydraulics                320570 non-null  object \n",
      " 33  Pushblock                 25219 non-null   object \n",
      " 34  Ripper                    104137 non-null  object \n",
      " 35  Scarifier                 25230 non-null   object \n",
      " 36  Tip_Control               25219 non-null   object \n",
      " 37  Tire_Size                 94718 non-null   object \n",
      " 38  Coupler                   213952 non-null  object \n",
      " 39  Coupler_System            43458 non-null   object \n",
      " 40  Grouser_Tracks            43362 non-null   object \n",
      " 41  Hydraulics_Flow           43362 non-null   object \n",
      " 42  Track_Type                99153 non-null   object \n",
      " 43  Undercarriage_Pad_Width   99872 non-null   object \n",
      " 44  Stick_Length              99218 non-null   object \n",
      " 45  Thumb                     99288 non-null   object \n",
      " 46  Pattern_Changer           99218 non-null   object \n",
      " 47  Grouser_Type              99153 non-null   object \n",
      " 48  Backhoe_Mounting          78672 non-null   object \n",
      " 49  Blade_Type                79833 non-null   object \n",
      " 50  Travel_Controls           79834 non-null   object \n",
      " 51  Differential_Type         69411 non-null   object \n",
      " 52  Steering_Controls         69369 non-null   object \n",
      "dtypes: float64(2), int64(6), object(45)\n",
      "memory usage: 162.2+ MB\n"
     ]
    }
   ],
   "source": [
    "df.info()"
   ]
  },
  {
   "cell_type": "code",
   "execution_count": 8,
   "metadata": {},
   "outputs": [
    {
     "data": {
      "text/plain": [
       "array(['WL', 'SSL', 'TEX', 'BL', 'TTT', 'MG'], dtype=object)"
      ]
     },
     "execution_count": 8,
     "metadata": {},
     "output_type": "execute_result"
    }
   ],
   "source": [
    "df['ProductGroup'].unique()"
   ]
  },
  {
   "cell_type": "code",
   "execution_count": 9,
   "metadata": {},
   "outputs": [
    {
     "data": {
      "text/plain": [
       "array([nan, 'Four Wheel Drive', 'Two Wheel Drive', 'No',\n",
       "       'All Wheel Drive'], dtype=object)"
      ]
     },
     "execution_count": 9,
     "metadata": {},
     "output_type": "execute_result"
    }
   ],
   "source": [
    "df['Drive_System'].unique()"
   ]
  },
  {
   "cell_type": "code",
   "execution_count": 10,
   "metadata": {},
   "outputs": [
    {
     "data": {
      "text/plain": [
       "array([nan, 'Powershuttle', 'Standard', 'Powershift',\n",
       "       'None or Unspecified', 'Hydrostatic', 'Autoshift', 'Direct Drive',\n",
       "       'AutoShift'], dtype=object)"
      ]
     },
     "execution_count": 10,
     "metadata": {},
     "output_type": "execute_result"
    }
   ],
   "source": [
    "df['Transmission'].unique()"
   ]
  },
  {
   "cell_type": "code",
   "execution_count": 11,
   "metadata": {},
   "outputs": [
    {
     "data": {
      "text/plain": [
       "array([nan, 'None or Unspecified', 'Yes'], dtype=object)"
      ]
     },
     "execution_count": 11,
     "metadata": {},
     "output_type": "execute_result"
    }
   ],
   "source": [
    "df['Turbocharged'].unique()"
   ]
  },
  {
   "cell_type": "code",
   "execution_count": 20,
   "metadata": {},
   "outputs": [
    {
     "data": {
      "text/plain": [
       "4999"
      ]
     },
     "execution_count": 20,
     "metadata": {},
     "output_type": "execute_result"
    }
   ],
   "source": [
    "len(df['fiModelDesc'].unique())"
   ]
  },
  {
   "cell_type": "code",
   "execution_count": 24,
   "metadata": {},
   "outputs": [
    {
     "data": {
      "text/plain": [
       "296764"
      ]
     },
     "execution_count": 24,
     "metadata": {},
     "output_type": "execute_result"
    }
   ],
   "source": [
    "df['Drive_System'].isna().sum()"
   ]
  },
  {
   "cell_type": "code",
   "execution_count": null,
   "metadata": {},
   "outputs": [],
   "source": [
    "def drop_column(df, column_name):\n",
    "    df = df.drop('column_name')\n",
    "    return df"
   ]
  }
 ],
 "metadata": {
  "kernelspec": {
   "display_name": "Python 3",
   "language": "python",
   "name": "python3"
  },
  "language_info": {
   "codemirror_mode": {
    "name": "ipython",
    "version": 3
   },
   "file_extension": ".py",
   "mimetype": "text/x-python",
   "name": "python",
   "nbconvert_exporter": "python",
   "pygments_lexer": "ipython3",
   "version": "3.8.3"
  }
 },
 "nbformat": 4,
 "nbformat_minor": 4
}
